{
  "nbformat": 4,
  "nbformat_minor": 0,
  "metadata": {
    "colab": {
      "provenance": []
    },
    "kernelspec": {
      "name": "python3",
      "display_name": "Python 3"
    },
    "language_info": {
      "name": "python"
    }
  },
  "cells": [
    {
      "cell_type": "markdown",
      "source": [
        "#Python Data Structure\n",
        "\n",
        "1. What are data structures, and why are they important?\n",
        "   - A Data structure is a way of storing, organizing and managing data so it can be used efficiently. Data structures are important because of they make data handling efficient, which saves time and memory.\n",
        "2.  Explain the difference between mutable and immutable data types with examples?\n",
        "    - Mutable data types are the data types whose values can be change or modify after creation. when you modify this same memory location is updated. example: list, dict, set\n",
        "    - Immutable data types are the data types whose values can not be change or modify after creation. Any modification will create a new object in memory instead of modifying the old one. example: int, float, string, tuple, bool.\n",
        "3. What are the main differences between lists and tuples in Python?\n",
        "   - Lists are mutable data types. Lists defined using square brackets. Lists requires more memory.\n",
        "   - Tuples are immutable data types. Tuples defined using parenthesis. Tuples require less memory.\n",
        "4. Describe how dictionaries store data?\n",
        "   - A dictionary in Python stores data as key-value pairs using a hash table. example: student = {\"name\": \"Shruti\", \"age\": 20}\n",
        "5. Why might you use a set instead of a list in Python?\n",
        "   - A set is used when you need to store only unique elements and perform fast membership tests. Sets are also useful for mathematical operations like union, intersection, and difference, which are not directly available with lists.\n",
        "6. What is a string in Python, and how is it different from a list?\n",
        "   - A string in Python is a sequence of characters enclosed in single quotes, double quotes, or triple quotes. Strings are immutable, meaning once created, they cannot be changed.\n",
        "   - A string stores characters only and is immutable, so you cannot modify its elements directly. A list can store different data types (numbers, strings, objects, etc.) and is mutable, meaning its elements can be changed, added, or removed.\n",
        "7. How do tuples ensure data integrity in Python?\n",
        "   - Tuples ensure data integrity in Python because they are immutable, meaning once a tuple is created, its elements cannot be changed, added, or removed. This immutability guarantees that the stored data remains fixed and consistent throughout the program, preventing accidental modifications. Tuples are often used to represent constant collections of values, such as coordinates, dates, or keys in dictionaries, where data integrity and reliability are important.\n",
        "8. What is a hash table, and how does it relate to dictionaries in Python?  \n",
        "   - A hash table is a data structure that stores data in key–value pairs and uses a hash function to compute an index for each key, which decides where its value is stored in memory. This allows for very fast data retrieval.\n",
        "   - In Python, dictionaries are implemented using hash tables. When you store a key–value pair in a dictionary, Python hashes the key to find a memory location and stores the value there. This is why dictionary lookups, insertions, and deletions are very efficient.\n",
        "9. Can lists contain different data types in Python?\n",
        "   - yes, lists containes different data types in python. example: list = [\"shruti\", 66, true, 5.07]\n",
        "10. Explain why strings are immutable in Python?\n",
        "    - Strings are immutable in Python because once they are created, their contents cannot be changed or modified.\n",
        "11. What advantages do dictionaries offer over lists for certain tasks?\n",
        "    - Dictionaries offer advantages over lists when data needs to be stored and accessed using a key rather than a numeric index. With dictionaries, lookups, insertions, and deletions are much faster because they use hashing, while lists require sequential searching for non-indexed access. Dictionaries also allow for more meaningful data representation by pairing keys with values, making the code easier to read and maintain.\n",
        "12. Describe a scenario where using a tuple would be preferable over a list?\n",
        "    - Using a tuple is preferable when you need to store a fixed set of values that should not change throughout the program. For example, storing the coordinates of a point (x, y) or representing the days of the week is best done with a tuple, since these values are constant and should remain unchanged. Tuples ensure data integrity by preventing accidental modifications and also offer better performance and lower memory usage compared to lists.\n",
        "13. How do sets handle duplicate values in Python?\n",
        "    - Sets in Python automatically remove duplicate values because they are designed to store only unique elements. When you add duplicate items to a set, Python keeps just one copy and ignores the rest.\n",
        "    - For example, set([1, 2, 2, 3]) will result in {1, 2, 3}. This property makes sets useful for tasks like filtering duplicates from a collection.\n",
        "14. How does the “in” keyword work differently for lists and dictionaries?\n",
        "    - For a list, in checks whether a given value exists among the list elements, so 3 in [1, 2, 3] returns True. For a dictionary, in checks only the keys, not the values. For example, in {\"a\": 1, \"b\": 2}, the expression \"a\" in dict returns True, but 1 in dict returns False since 1 is a value, not a key.\n",
        "15. Can you modify the elements of a tuple? Explain why or why not?\n",
        "    - No, you cannot modify the elements of a tuple in Python because tuples are immutable. Once a tuple is created, its elements are fixed and cannot be changed, added, or removed. This immutability ensures data integrity and makes tuples useful for storing constant or unchanging data. If you need a sequence that can be modified, you should use a list instead.\n",
        "16. What is a nested dictionary, and give an example of its use case?\n",
        "   - A nested dictionary is a dictionary that contains another dictionary as its value. It is used to represent hierarchical or structured data. For example, you can use a nested dictionary to store student records where each student has multiple details: students = {\n",
        "    \"101\": {\"name\": \"Shruti\", \"age\": 20, \"course\": \"Data Science\"},\n",
        "    \"102\": {\"name\": \"Amit\", \"age\": 21, \"course\": \"AI\"},\n",
        "}\n",
        "17. Describe the time complexity of accessing elements in a dictionary?\n",
        "    - Accessing elements in a Python dictionary has an average time complexity of O(1) because dictionaries use a hash table internally. The key is hashed to find the exact memory location of the value, making lookups very fast. However, in rare cases of hash collisions, the time complexity can degrade to O(n), but Python’s optimized hashing and collision handling keep lookups nearly constant time in practice.\n",
        "18. In what situations are lists preferred over dictionaries?\n",
        "    -  Lists are preferred over dictionaries when the data is ordered, simple, and does not need key–value mapping. They are ideal when you only care about the sequence of elements and will access them by index rather than by a unique key. For example, storing a list of numbers [10, 20, 30] or names [\"Shruti\", \"Amit\", \"Neha\"] is more straightforward with a list. Lists are also better when you expect duplicate values, since dictionaries do not allow duplicate keys.\n",
        "19. Why are dictionaries considered unordered, and how does that affect data retrieval?\n",
        "    - Dictionaries are considered unordered because their elements are stored based on the hash values of keys, not in a sequential order like lists. This means you cannot rely on the position of items to access them; instead, you must use their keys.\n",
        "     The unordered nature ensures that data retrieval is based on fast key lookups rather than positional indexing, making access efficient but not sequence-dependent.\n",
        "20. Explain the difference between a list and a dictionary in terms of data retrieval.\n",
        "    - The main difference between a list and a dictionary in terms of data retrieval is how elements are accessed. In a list, elements are retrieved using their index positions, such as my_list[0] to get the first element. In a dictionary, elements are retrieved using their keys, such as my_dict[\"name\"] to get the value for that key. This makes lists better for ordered, sequential data, while dictionaries are better when fast lookups by meaningful identifiers (keys) are needed.\n",
        "\n"
      ],
      "metadata": {
        "id": "iNkuM2rYf2uJ"
      }
    },
    {
      "cell_type": "code",
      "execution_count": 1,
      "metadata": {
        "colab": {
          "base_uri": "https://localhost:8080/"
        },
        "id": "4Nmrr2AEfIOJ",
        "outputId": "368e3854-8a2e-4fba-b256-27f2ad2b7ff2"
      },
      "outputs": [
        {
          "output_type": "stream",
          "name": "stdout",
          "text": [
            "Shruti\n"
          ]
        }
      ],
      "source": [
        "#Q1:  Write a code to create a string with your name and print it\n",
        "name = \"Shruti\"\n",
        "print(name)"
      ]
    },
    {
      "cell_type": "code",
      "source": [
        "#Q2:  Write a code to find the length of the string \"Hello World\".\n",
        "str = \"hello world\"\n",
        "print (len(str))"
      ],
      "metadata": {
        "colab": {
          "base_uri": "https://localhost:8080/"
        },
        "id": "BqorkOPzgdYf",
        "outputId": "1176a561-be70-40d5-f012-494a24bed61f"
      },
      "execution_count": 2,
      "outputs": [
        {
          "output_type": "stream",
          "name": "stdout",
          "text": [
            "11\n"
          ]
        }
      ]
    },
    {
      "cell_type": "code",
      "source": [
        "#Q3:  Write a code to slice the first 3 characters from the string \"Python Programming\"\n",
        "str = \"Python Programming\"\n",
        "print(str[:3])"
      ],
      "metadata": {
        "colab": {
          "base_uri": "https://localhost:8080/"
        },
        "id": "wSF61CKGghiz",
        "outputId": "c7c2f750-1ce6-492b-a78c-ff70e84031d2"
      },
      "execution_count": 3,
      "outputs": [
        {
          "output_type": "stream",
          "name": "stdout",
          "text": [
            "Pyt\n"
          ]
        }
      ]
    },
    {
      "cell_type": "code",
      "source": [
        "#Q4: Write a code to convert the string \"hello\" to uppercase.\n",
        "str = \"hello\"\n",
        "print(str.upper())"
      ],
      "metadata": {
        "colab": {
          "base_uri": "https://localhost:8080/"
        },
        "id": "AojHHWO3ghfb",
        "outputId": "7139153b-8c6a-4cfa-f92f-08ab719f789f"
      },
      "execution_count": 4,
      "outputs": [
        {
          "output_type": "stream",
          "name": "stdout",
          "text": [
            "HELLO\n"
          ]
        }
      ]
    },
    {
      "cell_type": "code",
      "source": [
        "#Q5. Write a code to replace the word \"apple\" with \"orange\" in the string \"I like apple\"\n",
        "str = \"I like apple\"\n",
        "print(str.replace(\"apple\", \"orange\"))"
      ],
      "metadata": {
        "colab": {
          "base_uri": "https://localhost:8080/"
        },
        "id": "NCvlFE4Jghcu",
        "outputId": "18d59f8a-0fca-47a8-98f5-291236ca0ab9"
      },
      "execution_count": 5,
      "outputs": [
        {
          "output_type": "stream",
          "name": "stdout",
          "text": [
            "I like orange\n"
          ]
        }
      ]
    },
    {
      "cell_type": "code",
      "source": [
        "#Q6. Write a code to create a list with numbers 1 to 5 and print it.\n",
        "list = [1,2,3,4,5]\n",
        "print(list)"
      ],
      "metadata": {
        "colab": {
          "base_uri": "https://localhost:8080/"
        },
        "id": "JiOIkm0OghaG",
        "outputId": "836317d9-e55f-4901-c950-ca074431fb2d"
      },
      "execution_count": 6,
      "outputs": [
        {
          "output_type": "stream",
          "name": "stdout",
          "text": [
            "[1, 2, 3, 4, 5]\n"
          ]
        }
      ]
    },
    {
      "cell_type": "code",
      "source": [
        "#Q7.  Write a code to append the number 10 to the list [1, 2, 3, 4]\n",
        "list = [1, 2, 3, 4]\n",
        "list.append(10)\n",
        "print(list)"
      ],
      "metadata": {
        "colab": {
          "base_uri": "https://localhost:8080/"
        },
        "id": "_3TaJAzhghXB",
        "outputId": "f84a3786-9de2-4d61-839e-ec858e8870fe"
      },
      "execution_count": 7,
      "outputs": [
        {
          "output_type": "stream",
          "name": "stdout",
          "text": [
            "[1, 2, 3, 4, 10]\n"
          ]
        }
      ]
    },
    {
      "cell_type": "code",
      "source": [
        "#Q8. Write a code to remove the number 3 from the list [1, 2, 3, 4, 5]\n",
        "list = [1, 2, 3, 4, 5]\n",
        "list.remove(3)\n",
        "print(list)"
      ],
      "metadata": {
        "colab": {
          "base_uri": "https://localhost:8080/"
        },
        "id": "Y0hFi1SZghOD",
        "outputId": "dc7b279b-7d3f-4208-983e-9375499ad609"
      },
      "execution_count": 8,
      "outputs": [
        {
          "output_type": "stream",
          "name": "stdout",
          "text": [
            "[1, 2, 4, 5]\n"
          ]
        }
      ]
    },
    {
      "cell_type": "code",
      "source": [
        "#Q9. Write a code to access the second element in the list ['a', 'b', 'c', 'd']\n",
        "list = ['a', 'b', 'c', 'd']\n",
        "print(list[1])"
      ],
      "metadata": {
        "colab": {
          "base_uri": "https://localhost:8080/"
        },
        "id": "aGeXeKWYg1jX",
        "outputId": "a9fb7d92-a6b5-4a30-ee17-771fc2e2b803"
      },
      "execution_count": 9,
      "outputs": [
        {
          "output_type": "stream",
          "name": "stdout",
          "text": [
            "b\n"
          ]
        }
      ]
    },
    {
      "cell_type": "code",
      "source": [
        "#Q10. Write a code to reverse the list [10, 20, 30, 40, 50].\n",
        "list = [10, 20, 30, 40, 50]\n",
        "list.reverse()\n",
        "print(list)"
      ],
      "metadata": {
        "colab": {
          "base_uri": "https://localhost:8080/"
        },
        "id": "IsCAVHqdg1f-",
        "outputId": "f28f0350-52e9-482e-e8f6-56f252e5b220"
      },
      "execution_count": 10,
      "outputs": [
        {
          "output_type": "stream",
          "name": "stdout",
          "text": [
            "[50, 40, 30, 20, 10]\n"
          ]
        }
      ]
    },
    {
      "cell_type": "code",
      "source": [
        "#Q11.  Write a code to create a tuple with the elements 100, 200, 300 and print it.\n",
        "tuple = (100, 200, 300)\n",
        "print(tuple)"
      ],
      "metadata": {
        "colab": {
          "base_uri": "https://localhost:8080/"
        },
        "id": "W3rfWl6_g1d1",
        "outputId": "72e50107-902f-475c-f8a4-207beccf0e90"
      },
      "execution_count": 11,
      "outputs": [
        {
          "output_type": "stream",
          "name": "stdout",
          "text": [
            "(100, 200, 300)\n"
          ]
        }
      ]
    },
    {
      "cell_type": "code",
      "source": [
        "#Q12. Write a code to access the second-to-last element of the tuple ('red', 'green', 'blue', 'yellow').\n",
        "tuple = ('red', 'green', 'blue', 'yellow')\n",
        "print(tuple[1:])"
      ],
      "metadata": {
        "colab": {
          "base_uri": "https://localhost:8080/"
        },
        "id": "_s8LjwERg1bA",
        "outputId": "3930a75e-2672-4988-dc5a-7777e0d93009"
      },
      "execution_count": 12,
      "outputs": [
        {
          "output_type": "stream",
          "name": "stdout",
          "text": [
            "('green', 'blue', 'yellow')\n"
          ]
        }
      ]
    },
    {
      "cell_type": "code",
      "source": [
        "#Q13. Write a code to find the minimum number in the tuple (10, 20, 5, 15).\n",
        "tuple = (10, 20, 5, 15)\n",
        "print(min(tuple))"
      ],
      "metadata": {
        "colab": {
          "base_uri": "https://localhost:8080/"
        },
        "id": "G7QEb43Vg1X9",
        "outputId": "3e409a19-8586-4653-b177-d0f4e698e144"
      },
      "execution_count": 13,
      "outputs": [
        {
          "output_type": "stream",
          "name": "stdout",
          "text": [
            "5\n"
          ]
        }
      ]
    },
    {
      "cell_type": "code",
      "source": [
        "#Q14. Write a code to find the index of the element \"cat\" in the tuple ('dog', 'cat', 'rabbit').\n",
        "tuple = ('dog', 'cat', 'rabbit')\n",
        "print(tuple.index(\"cat\"))"
      ],
      "metadata": {
        "colab": {
          "base_uri": "https://localhost:8080/"
        },
        "id": "DT6YJBdzg1Va",
        "outputId": "b15dd7d3-0427-4eb4-d78e-dace70999740"
      },
      "execution_count": 14,
      "outputs": [
        {
          "output_type": "stream",
          "name": "stdout",
          "text": [
            "1\n"
          ]
        }
      ]
    },
    {
      "cell_type": "code",
      "source": [
        "#Q15. Write a code to create a tuple containing three different fruits and check if \"kiwi\" is in it.\n",
        "tuple = (\"apple\", \"mango\", \"kiwi\", \"watermelon\")\n",
        "\"kiwi\" in tuple"
      ],
      "metadata": {
        "colab": {
          "base_uri": "https://localhost:8080/"
        },
        "id": "EuuX0W0lg1Su",
        "outputId": "34fd7a06-c7b2-40ac-e35d-6c38964fc5c2"
      },
      "execution_count": 15,
      "outputs": [
        {
          "output_type": "execute_result",
          "data": {
            "text/plain": [
              "True"
            ]
          },
          "metadata": {},
          "execution_count": 15
        }
      ]
    },
    {
      "cell_type": "code",
      "source": [
        "#Q16. Write a code to create a set with the elements 'a', 'b', 'c' and print it.\n",
        "my_set = {'a', 'b', 'c'}\n",
        "print(my_set)"
      ],
      "metadata": {
        "colab": {
          "base_uri": "https://localhost:8080/"
        },
        "id": "n6Yacc8mg1P-",
        "outputId": "59c13ce0-049e-4084-a856-593cd3c7f733"
      },
      "execution_count": 16,
      "outputs": [
        {
          "output_type": "stream",
          "name": "stdout",
          "text": [
            "{'a', 'b', 'c'}\n"
          ]
        }
      ]
    },
    {
      "cell_type": "code",
      "source": [
        "#Q17. Write a code to clear all elements from the set {1, 2, 3, 4, 5}.\n",
        "my_set = {1, 2, 3, 4, 5}\n",
        "my_set.clear()\n",
        "print(my_set)"
      ],
      "metadata": {
        "colab": {
          "base_uri": "https://localhost:8080/"
        },
        "id": "V3m0N69zg1NP",
        "outputId": "210c480f-cd03-4c2e-8c31-dae879491833"
      },
      "execution_count": 17,
      "outputs": [
        {
          "output_type": "stream",
          "name": "stdout",
          "text": [
            "set()\n"
          ]
        }
      ]
    },
    {
      "cell_type": "code",
      "source": [
        "#Q18. Write a code to remove the element 4 from the set {1, 2, 3, 4}.\n",
        "set = {1, 2, 3, 4}\n",
        "set.remove(4)\n",
        "print(set)"
      ],
      "metadata": {
        "colab": {
          "base_uri": "https://localhost:8080/"
        },
        "id": "5b402dnahW8U",
        "outputId": "ec62a66f-aed6-44ad-c877-e4417fa52adb"
      },
      "execution_count": 18,
      "outputs": [
        {
          "output_type": "stream",
          "name": "stdout",
          "text": [
            "{1, 2, 3}\n"
          ]
        }
      ]
    },
    {
      "cell_type": "code",
      "source": [
        "#Q19. Write a code to find the union of two sets {1, 2, 3} and {3, 4, 5}.\n",
        "set1 = {1, 2, 3}\n",
        "set2 = {3, 4, 5}\n",
        "print(set1.union(set2))"
      ],
      "metadata": {
        "colab": {
          "base_uri": "https://localhost:8080/"
        },
        "id": "R0es6YAchW46",
        "outputId": "1f9a3f13-0d8c-49d5-c494-18b2713ce8b5"
      },
      "execution_count": 19,
      "outputs": [
        {
          "output_type": "stream",
          "name": "stdout",
          "text": [
            "{1, 2, 3, 4, 5}\n"
          ]
        }
      ]
    },
    {
      "cell_type": "code",
      "source": [
        "#Q20.  Write a code to find the intersection of two sets {1, 2, 3} and {2, 3, 4}\n",
        "set1 = {1, 2, 3}\n",
        "set2 = {3, 4, 5}\n",
        "print(set1.intersection(set2))"
      ],
      "metadata": {
        "colab": {
          "base_uri": "https://localhost:8080/"
        },
        "id": "uEfoQMmyhW2B",
        "outputId": "df1d9524-95b7-4d08-dfe7-a78714d4c888"
      },
      "execution_count": 20,
      "outputs": [
        {
          "output_type": "stream",
          "name": "stdout",
          "text": [
            "{3}\n"
          ]
        }
      ]
    },
    {
      "cell_type": "code",
      "source": [
        "#Q21.  Write a code to create a dictionary with the keys \"name\", \"age\", and \"city\", and print it\n",
        "dict = {\"name\": \"Shruti\", \"age\": 20, \"city\": \"Mumbai\"}\n",
        "print(dict)"
      ],
      "metadata": {
        "colab": {
          "base_uri": "https://localhost:8080/"
        },
        "id": "cGs2LvPmhWzX",
        "outputId": "bc06bec1-88a4-420c-c97c-1b5fa91e4958"
      },
      "execution_count": 21,
      "outputs": [
        {
          "output_type": "stream",
          "name": "stdout",
          "text": [
            "{'name': 'Shruti', 'age': 20, 'city': 'Mumbai'}\n"
          ]
        }
      ]
    },
    {
      "cell_type": "code",
      "source": [
        "#Q22. Write a code to add a new key-value pair \"country\": \"USA\" to the dict\n",
        "dict = {\"name\": \"Shruti\", \"age\": 20, \"city\": \"Mumbai\"}\n",
        "dict[\"country\"] = \"USA\"\n",
        "print(dict)"
      ],
      "metadata": {
        "colab": {
          "base_uri": "https://localhost:8080/"
        },
        "id": "sylEc85ChWwb",
        "outputId": "04837d64-8772-4511-b3d2-fcf6aa68babb"
      },
      "execution_count": 22,
      "outputs": [
        {
          "output_type": "stream",
          "name": "stdout",
          "text": [
            "{'name': 'Shruti', 'age': 20, 'city': 'Mumbai', 'country': 'USA'}\n"
          ]
        }
      ]
    },
    {
      "cell_type": "code",
      "source": [
        "#Q23.  Write a code to access the value associated with the key \"name\" in the dictionary {'name': 'Alice', 'age': 30}.\n",
        "dict = {'name': 'Shruti', 'age': 20}\n",
        "print(dict[\"name\"])"
      ],
      "metadata": {
        "colab": {
          "base_uri": "https://localhost:8080/"
        },
        "id": "UGbL_XH0hWuN",
        "outputId": "90d1ddf3-6696-4537-965c-7297d069f700"
      },
      "execution_count": 23,
      "outputs": [
        {
          "output_type": "stream",
          "name": "stdout",
          "text": [
            "Shruti\n"
          ]
        }
      ]
    },
    {
      "cell_type": "code",
      "source": [
        "#Q24.  Write a code to remove the key \"age\" from the dictionary {'name': 'Bob', 'age': 22, 'city': 'New York'}.\n",
        "dict = {'name': 'Bob', 'age': 22, 'city': 'New York'}\n",
        "del dict[\"age\"]\n",
        "print(dict)"
      ],
      "metadata": {
        "colab": {
          "base_uri": "https://localhost:8080/"
        },
        "id": "TZHUsN8lhWry",
        "outputId": "b0646a7a-08e0-4698-ef5b-ce55914fbca7"
      },
      "execution_count": 24,
      "outputs": [
        {
          "output_type": "stream",
          "name": "stdout",
          "text": [
            "{'name': 'Bob', 'city': 'New York'}\n"
          ]
        }
      ]
    },
    {
      "cell_type": "code",
      "source": [
        "#Q25. Write a code to check if the key \"city\" exists in the dictionary {'name': 'Alice', 'city': 'Paris'}\n",
        "dict = {'name': 'Alice', 'city': 'Paris'}\n",
        "\"city\" in dict"
      ],
      "metadata": {
        "colab": {
          "base_uri": "https://localhost:8080/"
        },
        "id": "VPUwzGWyhp5p",
        "outputId": "fa9083ca-df74-4996-ac79-5f7cb7412ed4"
      },
      "execution_count": 25,
      "outputs": [
        {
          "output_type": "execute_result",
          "data": {
            "text/plain": [
              "True"
            ]
          },
          "metadata": {},
          "execution_count": 25
        }
      ]
    },
    {
      "cell_type": "code",
      "source": [
        "#Q26. Write a code to create a list, a tuple, and a dictionary, and print them all.\n",
        "list = [1,2,3,4,5]\n",
        "print(list)\n",
        "tuple = (1,2,3,4,5)\n",
        "print(tuple)\n",
        "dict = {\"name\": \"shruti\", \"age\": 20, \"marks\": 60}\n",
        "print(dict)"
      ],
      "metadata": {
        "colab": {
          "base_uri": "https://localhost:8080/"
        },
        "id": "KCp_JeBshp3J",
        "outputId": "cd19de14-ed04-41e6-a5ad-5782aa9b3e61"
      },
      "execution_count": 26,
      "outputs": [
        {
          "output_type": "stream",
          "name": "stdout",
          "text": [
            "[1, 2, 3, 4, 5]\n",
            "(1, 2, 3, 4, 5)\n",
            "{'name': 'shruti', 'age': 20, 'marks': 60}\n"
          ]
        }
      ]
    },
    {
      "cell_type": "code",
      "source": [
        "#Q27. Write a code to create a list of 5 random numbers between 1 and 100, sort it in ascending order, and print the result.(replaced)\n",
        "list = [25, 60, 20, 73, 99]\n",
        "list.sort()\n",
        "print(list)"
      ],
      "metadata": {
        "colab": {
          "base_uri": "https://localhost:8080/"
        },
        "id": "g48FFttVhp0b",
        "outputId": "eed64993-abad-46c4-9da9-f25cecb2b05b"
      },
      "execution_count": 27,
      "outputs": [
        {
          "output_type": "stream",
          "name": "stdout",
          "text": [
            "[20, 25, 60, 73, 99]\n"
          ]
        }
      ]
    },
    {
      "cell_type": "code",
      "source": [
        "#Q28. Write a code to create a list with strings and print the element at the third index.\n",
        "list = [\"shruti\", \"gauri\", \"samruddhi\", \"rutika\", \"minal\"]\n",
        "print(list[3])"
      ],
      "metadata": {
        "colab": {
          "base_uri": "https://localhost:8080/"
        },
        "id": "2NXCXXQkhpxl",
        "outputId": "54dee3a6-08d9-4055-dc73-6ee7825159d7"
      },
      "execution_count": 28,
      "outputs": [
        {
          "output_type": "stream",
          "name": "stdout",
          "text": [
            "rutika\n"
          ]
        }
      ]
    },
    {
      "cell_type": "code",
      "source": [
        "#Q29. Write a code to combine two dictionaries into one and print the result.\n",
        "dict1 = {\"name\": \"shruti\", \"age\": 20}\n",
        "dict2 = {\"standard\": \"TE\", \"marks\": 60}\n",
        "dict1.update(dict2)\n",
        "print(dict1)"
      ],
      "metadata": {
        "colab": {
          "base_uri": "https://localhost:8080/"
        },
        "id": "FwKxM7WNhpvA",
        "outputId": "ac39ba7b-33f8-48a6-b8a8-29a4fde41504"
      },
      "execution_count": 29,
      "outputs": [
        {
          "output_type": "stream",
          "name": "stdout",
          "text": [
            "{'name': 'shruti', 'age': 20, 'standard': 'TE', 'marks': 60}\n"
          ]
        }
      ]
    },
    {
      "cell_type": "code",
      "source": [
        "#Q30. Write a code to convert a list of strings into a set.\n",
        "names = [\"shruti\", \"gauri\", \"samruddhi\", \"shruti\", \"rutika\", \"gauri\", \"minal\"]\n",
        "new_set = frozenset(names)\n",
        "print(new_set)\n",
        "# print(set)"
      ],
      "metadata": {
        "colab": {
          "base_uri": "https://localhost:8080/"
        },
        "id": "hq7Myb5Qhpsi",
        "outputId": "1c1b3a55-52b2-4d44-b396-abc8be551651"
      },
      "execution_count": 36,
      "outputs": [
        {
          "output_type": "stream",
          "name": "stdout",
          "text": [
            "frozenset({'samruddhi', 'minal', 'shruti', 'gauri', 'rutika'})\n"
          ]
        }
      ]
    }
  ]
}